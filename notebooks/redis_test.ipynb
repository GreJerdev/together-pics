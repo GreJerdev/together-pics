{
 "cells": [
  {
   "cell_type": "code",
   "execution_count": 1,
   "id": "d97614cb",
   "metadata": {},
   "outputs": [
    {
     "name": "stdout",
     "output_type": "stream",
     "text": [
      "Alice\n"
     ]
    }
   ],
   "source": [
    "import redis\n",
    "\n",
    "# Connect to Redis (localhost, default port 6379)\n",
    "r = redis.Redis(host='localhost', port=6379, db=0)\n",
    "\n",
    "# SET a key-value pair\n",
    "r.set(\"name\", \"Alice\")\n",
    "\n",
    "# GET the value back\n",
    "value = r.get(\"name\")\n",
    "\n",
    "# Redis returns bytes, so decode to string\n",
    "print(value.decode(\"utf-8\"))  # Output: Alice"
   ]
  },
  {
   "cell_type": "code",
   "execution_count": 2,
   "id": "5fee59e9",
   "metadata": {},
   "outputs": [
    {
     "name": "stdout",
     "output_type": "stream",
     "text": [
      "2\n",
      "{'id': 1, 'name': 'Alice'}\n"
     ]
    }
   ],
   "source": [
    "# Set key with expiration (10 seconds)\n",
    "r.set(\"session_token\", \"abc123\", ex=10)\n",
    "r.set(\"counter\", 0)\n",
    "r.incr(\"counter\")   # counter = 1\n",
    "r.incr(\"counter\")   # counter = 2\n",
    "print(r.get(\"counter\").decode())  # 2\n",
    "import json\n",
    "user = {\"id\": 1, \"name\": \"Alice\"}\n",
    "r.set(\"user:1\", json.dumps(user))\n",
    "print(json.loads(r.get(\"user:1\")))  # {'id': 1, 'name': 'Alice'}"
   ]
  },
  {
   "cell_type": "code",
   "execution_count": 3,
   "id": "8a63fa79",
   "metadata": {},
   "outputs": [],
   "source": [
    "r = redis.Redis(host=\"localhost\", port=6379, db=0)"
   ]
  },
  {
   "cell_type": "code",
   "execution_count": 5,
   "id": "5c8e8dcd",
   "metadata": {},
   "outputs": [
    {
     "name": "stdout",
     "output_type": "stream",
     "text": [
      "50.6 ms ± 1.34 ms per loop (mean ± std. dev. of 7 runs, 10 loops each)\n"
     ]
    }
   ],
   "source": [
    "%%timeit\n",
    "# Connect to Redis (adjust host/port/password as needed)\n",
    "\n",
    "\n",
    "# Example: populate 100 keys with values\n",
    "for i in range(1, 100):\n",
    "    r.set(f\"num:{i}\", i)   # num:1=1, num:2=2, ..., num:100=100\n",
    "\n",
    "# Sum them back\n",
    "total = 0\n",
    "for i in range(1, 100):\n",
    "    val = r.get(f\"num:{i}\")\n",
    "    if val is not None:\n",
    "        total += int(val)\n",
    "\n",
    "#print(\"Total sum of 100 keys:\", total)  # should print 5050"
   ]
  },
  {
   "cell_type": "code",
   "execution_count": null,
   "id": "28a16942",
   "metadata": {},
   "outputs": [],
   "source": []
  },
  {
   "cell_type": "code",
   "execution_count": 6,
   "id": "03a87393",
   "metadata": {},
   "outputs": [
    {
     "name": "stdout",
     "output_type": "stream",
     "text": [
      "Total sum of 100 keys (mget): 5050\n"
     ]
    }
   ],
   "source": [
    "keys = [f\"num:{i}\" for i in range(1, 101)]\n",
    "values = r.mget(keys)\n",
    "total = sum(int(v) for v in values if v is not None)\n",
    "\n",
    "print(\"Total sum of 100 keys (mget):\", total)"
   ]
  },
  {
   "cell_type": "code",
   "execution_count": 7,
   "id": "eef2d5ab",
   "metadata": {},
   "outputs": [
    {
     "data": {
      "text/plain": [
       "[b'1',\n",
       " b'2',\n",
       " b'3',\n",
       " b'4',\n",
       " b'5',\n",
       " b'6',\n",
       " b'7',\n",
       " b'8',\n",
       " b'9',\n",
       " b'10',\n",
       " b'11',\n",
       " b'12',\n",
       " b'13',\n",
       " b'14',\n",
       " b'15',\n",
       " b'16',\n",
       " b'17',\n",
       " b'18',\n",
       " b'19',\n",
       " b'20',\n",
       " b'21',\n",
       " b'22',\n",
       " b'23',\n",
       " b'24',\n",
       " b'25',\n",
       " b'26',\n",
       " b'27',\n",
       " b'28',\n",
       " b'29',\n",
       " b'30',\n",
       " b'31',\n",
       " b'32',\n",
       " b'33',\n",
       " b'34',\n",
       " b'35',\n",
       " b'36',\n",
       " b'37',\n",
       " b'38',\n",
       " b'39',\n",
       " b'40',\n",
       " b'41',\n",
       " b'42',\n",
       " b'43',\n",
       " b'44',\n",
       " b'45',\n",
       " b'46',\n",
       " b'47',\n",
       " b'48',\n",
       " b'49',\n",
       " b'50',\n",
       " b'51',\n",
       " b'52',\n",
       " b'53',\n",
       " b'54',\n",
       " b'55',\n",
       " b'56',\n",
       " b'57',\n",
       " b'58',\n",
       " b'59',\n",
       " b'60',\n",
       " b'61',\n",
       " b'62',\n",
       " b'63',\n",
       " b'64',\n",
       " b'65',\n",
       " b'66',\n",
       " b'67',\n",
       " b'68',\n",
       " b'69',\n",
       " b'70',\n",
       " b'71',\n",
       " b'72',\n",
       " b'73',\n",
       " b'74',\n",
       " b'75',\n",
       " b'76',\n",
       " b'77',\n",
       " b'78',\n",
       " b'79',\n",
       " b'80',\n",
       " b'81',\n",
       " b'82',\n",
       " b'83',\n",
       " b'84',\n",
       " b'85',\n",
       " b'86',\n",
       " b'87',\n",
       " b'88',\n",
       " b'89',\n",
       " b'90',\n",
       " b'91',\n",
       " b'92',\n",
       " b'93',\n",
       " b'94',\n",
       " b'95',\n",
       " b'96',\n",
       " b'97',\n",
       " b'98',\n",
       " b'99',\n",
       " b'100']"
      ]
     },
     "execution_count": 7,
     "metadata": {},
     "output_type": "execute_result"
    }
   ],
   "source": [
    "values"
   ]
  },
  {
   "cell_type": "code",
   "execution_count": null,
   "id": "83d24207",
   "metadata": {},
   "outputs": [],
   "source": []
  }
 ],
 "metadata": {
  "kernelspec": {
   "display_name": "venv",
   "language": "python",
   "name": "python3"
  },
  "language_info": {
   "codemirror_mode": {
    "name": "ipython",
    "version": 3
   },
   "file_extension": ".py",
   "mimetype": "text/x-python",
   "name": "python",
   "nbconvert_exporter": "python",
   "pygments_lexer": "ipython3",
   "version": "3.11.2"
  }
 },
 "nbformat": 4,
 "nbformat_minor": 5
}
